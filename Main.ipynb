{
 "cells": [
  {
   "cell_type": "markdown",
   "metadata": {},
   "source": [
    "## TIdy\n",
    "\n",
    "*An easy python formatter TM1 TurboIntegrator processes*\n",
    "___\n",
    "\n",
    "#### Option 1: Code Chunks\n",
    " - Copy & Paste TI code below and copy the output.\n",
    " - Runs locally or on Binder"
   ]
  },
  {
   "cell_type": "code",
   "execution_count": 1,
   "metadata": {},
   "outputs": [],
   "source": [
    "from TI import TI\n",
    "#pyperclip only works when running locally\n",
    "#import pyperclip"
   ]
  },
  {
   "cell_type": "code",
   "execution_count": 2,
   "metadata": {},
   "outputs": [
    {
     "name": "stdout",
     "output_type": "stream",
     "text": [
      "\n",
      "### Spacing & Capitalization\n",
      "cCube = 'GL';\n",
      "CubeSetLogChanges(cCube, 1);\n",
      "logx = '\\\\s-grp-dbsvr6\\sqlpackagedata$\\TM1\\Working\\test.txt';\n",
      "nResult = 10 \\ nDenominator - \n",
      "CellGetN('CubeName', 'V1', 'V2', 'V3');\n",
      "\n",
      "### Indentation\n",
      "nIdx = 10;\n",
      "WHILE(nIdx > 0);\n",
      "\tIF (CubeExists(cCube) = 1);\n",
      "\t\tCubeDestroy(cCube);\n",
      "\tELSE;\n",
      "\t\tCellPutN(10 \\ nNoOfYears, 'Fishpaste', 'Actual', '2019.01')\n",
      "\tENDIF;\n",
      "\tnIdx = nIdx - 1;\n",
      "END;\n",
      "\n"
     ]
    }
   ],
   "source": [
    "string = r\"\"\"\n",
    "### Spacing & Capitalization\n",
    "cCube='GL';\n",
    "cubesetlogchanges(cCube, 1) ;\n",
    "path = '\\\\main-directory\\test.txt';\n",
    "nResult = 10\\nDenominator-\n",
    "CellGetN('CubeName', 'V1', 'V2', 'V3');\n",
    "\n",
    "### Indentation\n",
    "nIdx=10;\n",
    "While(nIdx>0);\n",
    "If (cubeExists(cCube)=1);\n",
    "cubedestroy(cCube);\n",
    "else;\n",
    " CellPutN(10\\nNoOfYears, 'Fishpaste', 'Actual', '2019.01')\n",
    "endif;\n",
    "nIdx=nIdx-1;\n",
    "end;\n",
    "\"\"\"\n",
    "ti = TI(text=string)\n",
    "ti.tidy()\n",
    "ti.print_output()\n",
    "#pyperclip.copy('\\r\\n'.join(ti.text))"
   ]
  },
  {
   "cell_type": "code",
   "execution_count": null,
   "metadata": {},
   "outputs": [],
   "source": []
  },
  {
   "cell_type": "markdown",
   "metadata": {},
   "source": [
    "#### Option 2: Multiple Files\n",
    " - Copy files to the `in` directory, then run code and results will appear in `out` directory\n",
    " - Must run locally"
   ]
  },
  {
   "cell_type": "code",
   "execution_count": 3,
   "metadata": {},
   "outputs": [
    {
     "name": "stdout",
     "output_type": "stream",
     "text": [
      "TIdying complete!\n"
     ]
    }
   ],
   "source": [
    "import os\n",
    "from TI import TI\n",
    "from defaults import DEFAULT_INDIR\n",
    "\n",
    "scripts = os.listdir(DEFAULT_INDIR)\n",
    "for file in scripts:\n",
    "    tmp = TI(infile = DEFAULT_INDIR + '/' + file)\n",
    "    tmp.tidy()\n",
    "    tmp.write_output()\n",
    "\n",
    "print('TIdying complete!')"
   ]
  },
  {
   "cell_type": "code",
   "execution_count": null,
   "metadata": {},
   "outputs": [],
   "source": []
  }
 ],
 "metadata": {
  "kernelspec": {
   "display_name": "Python 3",
   "language": "python",
   "name": "python3"
  },
  "language_info": {
   "codemirror_mode": {
    "name": "ipython",
    "version": 3
   },
   "file_extension": ".py",
   "mimetype": "text/x-python",
   "name": "python",
   "nbconvert_exporter": "python",
   "pygments_lexer": "ipython3",
   "version": "3.6.8"
  }
 },
 "nbformat": 4,
 "nbformat_minor": 2
}

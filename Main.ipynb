{
 "cells": [
  {
   "cell_type": "markdown",
   "metadata": {},
   "source": [
    "## TIdy\n",
    "\n",
    "*An easy python formatter TM1 TurboIntegrator processes*\n",
    "___\n",
    "\n",
    "#### Option 1: Code Chunks\n",
    " - Copy & Paste TI code below and copy the output.\n",
    " - Runs locally or on Binder"
   ]
  },
  {
   "cell_type": "code",
   "execution_count": 1,
   "metadata": {},
   "outputs": [],
   "source": [
    "from TI import TI\n",
    "ti = TI(text = \"\")\n",
    "ti.set_tab(\"\\t\")\n",
    "#pyperclip only works when running locally\n",
    "#import pyperclip"
   ]
  },
  {
   "cell_type": "code",
   "execution_count": 2,
   "metadata": {},
   "outputs": [
    {
     "name": "stdout",
     "output_type": "stream",
     "text": [
      "\n",
      "### Spacing & Capitalization\n",
      "cCube = 'GL';\n",
      "CubeSetLogChanges(cCube, 1);\n",
      "\n",
      "### Indentation\n",
      "cDim = 'TestDim';\n",
      "IF (DimensionExists(cDim) <> 0);\n",
      "\tIF (1 = 0);\n",
      "\t\tDimensionDestroy(cDim);\n",
      "\tELSE;\n",
      "\t\tASCIIOutput('tmp.txt', 'Hello world!');\n",
      "\t\tCellPutN(10 \\ nValue, 'Fishpaste', 'Actual', '2019.01')\n",
      "\tENDIF;\n",
      "ENDIF;\n",
      "\n"
     ]
    }
   ],
   "source": [
    "string = \"\"\"\n",
    "### Spacing & Capitalization\n",
    "cCube='GL';\n",
    "cubesetlogchanges(cCube, 1) ;\n",
    "\n",
    "### Indentation\n",
    "cDim='TestDim';\n",
    "If (Dimensionexists(cDim)<>0);\n",
    "If (1=0);\n",
    "dimensiondestroy(cDim);\n",
    "else;\n",
    " Asciioutput('tmp.txt', 'Hello world!');\n",
    " CellPutN(10\\ nValue, 'Fishpaste', 'Actual', '2019.01')\n",
    "endif;\n",
    "endif;\n",
    "\"\"\"\n",
    "\n",
    "ti.text = string.split('\\n')\n",
    "ti.tidy()\n",
    "ti.print_output()\n",
    "#pyperclip.copy('\\\\r\\\\n'.join(ti.text))"
   ]
  },
  {
   "cell_type": "code",
   "execution_count": null,
   "metadata": {},
   "outputs": [],
   "source": []
  },
  {
   "cell_type": "markdown",
   "metadata": {},
   "source": [
    "#### Option 2: Multiple Files\n",
    " - Copy files to the `in` directory, then run code and results will appear in `out` directory\n",
    " - Must run locally\n",
    " - Currently does NOT support running for .pro files"
   ]
  },
  {
   "cell_type": "code",
   "execution_count": 3,
   "metadata": {},
   "outputs": [],
   "source": [
    "import os\n",
    "from TI import TI\n",
    "from defaults import DEFAULT_INDIR\n",
    "\n",
    "scripts = os.listdir(DEFAULT_INDIR)\n",
    "for file in scripts:\n",
    "    with open(DEFAULT_INDIR + '/' + file, 'r') as f:\n",
    "        text_list = f.read().splitlines()\n",
    "\n",
    "    tmp = TI(text_list)\n",
    "    tmp.set_outfile(file)\n",
    "    tmp.tidy()\n",
    "    tmp.generate_output()"
   ]
  },
  {
   "cell_type": "code",
   "execution_count": null,
   "metadata": {},
   "outputs": [],
   "source": []
  }
 ],
 "metadata": {
  "kernelspec": {
   "display_name": "Python 3",
   "language": "python",
   "name": "python3"
  },
  "language_info": {
   "codemirror_mode": {
    "name": "ipython",
    "version": 3
   },
   "file_extension": ".py",
   "mimetype": "text/x-python",
   "name": "python",
   "nbconvert_exporter": "python",
   "pygments_lexer": "ipython3",
   "version": "3.6.8"
  }
 },
 "nbformat": 4,
 "nbformat_minor": 2
}

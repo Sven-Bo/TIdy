{
 "cells": [
  {
   "cell_type": "code",
   "execution_count": 53,
   "metadata": {},
   "outputs": [],
   "source": [
    "# Defauts are kept in \n",
    "from TI import TI\n",
    "#pyperclip only works locally\n",
    "#import pyperclip\n",
    "ti = TI(intext = \"\")\n",
    "ti.set_tab(\"\\t\")"
   ]
  },
  {
   "cell_type": "code",
   "execution_count": 54,
   "metadata": {},
   "outputs": [
    {
     "name": "stdout",
     "output_type": "stream",
     "text": [
      "\n",
      "#LASTMODIFIED D Ebert 13 May 2019\n",
      "#GENERALCOMMENT This is a messy test TI script for TIdying up\n",
      "\n",
      "### Constants\n",
      "cCube = 'GL';\n",
      "\n",
      "#### An obnoxious heading\n",
      "\n",
      "# Too much space below:\n",
      "\n",
      "\n",
      "\n",
      "### Extra spaces here ->\n",
      "\n",
      "### Turn off logging\n",
      "cubesetlogchanges(cCube, 1);\n",
      "\n",
      "### Some ifs\n",
      "cDim = 'TestDim' ;\n",
      "IF (DimensionExists(cDim) <> 0);\n",
      "\t#Comment before if statement\n",
      "\tIF (1 >= 0);\n",
      "\t\t#Comment after if statement.\n",
      "\t\tdimensiondestroy(cDim);\n",
      "\t\t\n",
      "\t\t# Comment before else. Maybe should be dedented, especially since preceded by blank line?\n",
      "\tELSE;\n",
      "\t\tASCIIOUTPUT('tmp.txt', 'Hello world!');\n",
      "\tENDIF;\n",
      "ENDIF;\n",
      "\n"
     ]
    }
   ],
   "source": [
    "string = \"\"\"\n",
    "#LASTMODIFIED D Ebert 13 May 2019\n",
    "#GENERALCOMMENT This is a messy test TI script for TIdying up\n",
    "\n",
    "### Constants\n",
    "cCube='GL';\n",
    "\n",
    "############################################\n",
    "############################################\n",
    "#### An obnoxious heading\n",
    "############################################\n",
    "############################################\n",
    "\n",
    "# Too much space below:\n",
    "\n",
    "\n",
    "\n",
    "\n",
    "\n",
    "\n",
    "\n",
    "### Extra spaces here ->     \n",
    "\n",
    "### Turn off logging\n",
    "cubesetlogchanges(cCube, 1);\n",
    "\n",
    "### Some ifs\n",
    "cDim='TestDim' ;\n",
    "If (DimensionExists(cDim)<>0);\n",
    "#Comment before if statement\n",
    "If (1>=0);\n",
    "#Comment after if statement.\n",
    "dimensiondestroy(cDim);\n",
    "\n",
    "# Comment before else. Maybe should be dedented, especially since preceded by blank line?\n",
    "else;\n",
    "ASCIIOUTPUT('tmp.txt', 'Hello world!');\n",
    "endif;\n",
    "endif;\n",
    "\"\"\"\n",
    "\n",
    "ti.outtext = string.split('\\n')\n",
    "ti.tidy()\n",
    "pyperclip.copy('\r\n'.join(ti.outtext))\n",
    "ti.print_output()"
   ]
  },
  {
   "cell_type": "code",
   "execution_count": 40,
   "metadata": {},
   "outputs": [],
   "source": []
  },
  {
   "cell_type": "code",
   "execution_count": 44,
   "metadata": {},
   "outputs": [],
   "source": []
  },
  {
   "cell_type": "code",
   "execution_count": null,
   "metadata": {},
   "outputs": [],
   "source": []
  }
 ],
 "metadata": {
  "kernelspec": {
   "display_name": "Python 3",
   "language": "python",
   "name": "python3"
  },
  "language_info": {
   "codemirror_mode": {
    "name": "ipython",
    "version": 3
   },
   "file_extension": ".py",
   "mimetype": "text/x-python",
   "name": "python",
   "nbconvert_exporter": "python",
   "pygments_lexer": "ipython3",
   "version": "3.6.7"
  }
 },
 "nbformat": 4,
 "nbformat_minor": 2
}
